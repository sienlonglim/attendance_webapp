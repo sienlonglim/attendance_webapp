{
 "cells": [
  {
   "cell_type": "code",
   "execution_count": 17,
   "metadata": {},
   "outputs": [
    {
     "data": {
      "text/plain": [
       "'BJ97980'"
      ]
     },
     "execution_count": 17,
     "metadata": {},
     "output_type": "execute_result"
    }
   ],
   "source": [
    "import requests\n",
    "from bs4 import BeautifulSoup\n",
    "\n",
    "\n",
    "# Actual code for all the work is here!\n",
    "# Getting the html page using requests and parsing using bs4\n",
    "page = requests.get('https://www.myskillsfuture.gov.sg/api/take-attendance/RA103536')\n",
    "soup = BeautifulSoup(page.text, 'html.parser')\n",
    "\n",
    "# Session code eg. BH92347\n",
    "session = soup.find(class_='alternative-text').find_all('span')\n",
    "session[3].text.split(': ')[1].split('.')[0]"
   ]
  }
 ],
 "metadata": {
  "kernelspec": {
   "display_name": "base",
   "language": "python",
   "name": "python3"
  },
  "language_info": {
   "codemirror_mode": {
    "name": "ipython",
    "version": 3
   },
   "file_extension": ".py",
   "mimetype": "text/x-python",
   "name": "python",
   "nbconvert_exporter": "python",
   "pygments_lexer": "ipython3",
   "version": "3.9.12"
  },
  "orig_nbformat": 4
 },
 "nbformat": 4,
 "nbformat_minor": 2
}
